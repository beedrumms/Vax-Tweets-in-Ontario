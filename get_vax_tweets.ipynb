{
  "nbformat": 4,
  "nbformat_minor": 0,
  "metadata": {
    "colab": {
      "name": "get_vax_tweets.ipynb",
      "provenance": [],
      "collapsed_sections": [],
      "authorship_tag": "ABX9TyOp3b3WTcpzVT65BiHL8hq3",
      "include_colab_link": true
    },
    "kernelspec": {
      "name": "python3",
      "display_name": "Python 3"
    },
    "language_info": {
      "name": "python"
    }
  },
  "cells": [
    {
      "cell_type": "markdown",
      "metadata": {
        "id": "view-in-github",
        "colab_type": "text"
      },
      "source": [
        "<a href=\"https://colab.research.google.com/github/beedrumms/Vax-Tweets-in-Ontario/blob/main/get_vax_tweets.ipynb\" target=\"_parent\"><img src=\"https://colab.research.google.com/assets/colab-badge.svg\" alt=\"Open In Colab\"/></a>"
      ]
    },
    {
      "cell_type": "code",
      "metadata": {
        "colab": {
          "base_uri": "https://localhost:8080/"
        },
        "id": "vMRmk-R7ROEk",
        "outputId": "fe1c74f0-b7eb-4ef2-f475-620339f043c2"
      },
      "source": [
        "from google.colab import drive, files\n",
        "import os \n",
        "drive.mount(\"/content/drive\")\n",
        "\n",
        "#!pip install twint\n",
        "#!pip install nest-asyncio\n",
        "\n",
        "import pandas as pd \n",
        "import twint \n",
        "import nest_asyncio\n",
        "nest_asyncio.apply() "
      ],
      "execution_count": null,
      "outputs": [
        {
          "output_type": "stream",
          "text": [
            "Drive already mounted at /content/drive; to attempt to forcibly remount, call drive.mount(\"/content/drive\", force_remount=True).\n"
          ],
          "name": "stdout"
        }
      ]
    },
    {
      "cell_type": "markdown",
      "metadata": {
        "id": "OblLiZJSSDjP"
      },
      "source": [
        "####I want to do two searches here -- the first is to figure out who people are tweeting at when they are tweeting about vaccinations and the second scrape will use those handles to capture xx amount of vaccination related tweets"
      ]
    },
    {
      "cell_type": "code",
      "metadata": {
        "id": "fhK1BY7FWRJZ"
      },
      "source": [
        "# Need to update Twint to get it to work\n",
        "# !pip3 install --user --upgrade git+https://github.com/twintproject/twint.git@origin/master#egg=twint"
      ],
      "execution_count": null,
      "outputs": []
    },
    {
      "cell_type": "code",
      "metadata": {
        "id": "7BpxNldCRdYJ"
      },
      "source": [
        "# Configure for general vax search \n",
        "c = twint.Config() \n",
        "c.Search = \"vaccine AND ontario\"\n",
        "c.Lang = \"en\"\n",
        "c.Since = \"2021-01-01\"\n",
        "c.Limit = 100000\n",
        "c.Store_csv = True\n",
        "c.Output = \"/content/drive/MyDrive/Colab Notebooks/vax_tweets.csv\"\n",
        "\n",
        "twint.run.Search(c)"
      ],
      "execution_count": null,
      "outputs": []
    },
    {
      "cell_type": "code",
      "metadata": {
        "colab": {
          "base_uri": "https://localhost:8080/",
          "height": 422
        },
        "id": "IZV6vOgWYYJx",
        "outputId": "70ec1343-8786-44b2-f3a2-2ef5e8aef860"
      },
      "source": [
        "d = pd.read_csv(\"/content/drive/MyDrive/Colab Notebooks/vax_tweets.csv\")\n",
        "data = d.iloc[:,[3,10]]\n",
        "data\n",
        "data.drop_duplicates(\"tweet\", inplace=True)"
      ],
      "execution_count": null,
      "outputs": [
        {
          "output_type": "execute_result",
          "data": {
            "text/html": [
              "<div>\n",
              "<style scoped>\n",
              "    .dataframe tbody tr th:only-of-type {\n",
              "        vertical-align: middle;\n",
              "    }\n",
              "\n",
              "    .dataframe tbody tr th {\n",
              "        vertical-align: top;\n",
              "    }\n",
              "\n",
              "    .dataframe thead th {\n",
              "        text-align: right;\n",
              "    }\n",
              "</style>\n",
              "<table border=\"1\" class=\"dataframe\">\n",
              "  <thead>\n",
              "    <tr style=\"text-align: right;\">\n",
              "      <th></th>\n",
              "      <th>date</th>\n",
              "      <th>tweet</th>\n",
              "    </tr>\n",
              "  </thead>\n",
              "  <tbody>\n",
              "    <tr>\n",
              "      <th>0</th>\n",
              "      <td>2021-08-27</td>\n",
              "      <td>Ontario Salutes Work of Province’s COVID-19 Va...</td>\n",
              "    </tr>\n",
              "    <tr>\n",
              "      <th>1</th>\n",
              "      <td>2021-08-27</td>\n",
              "      <td>@celliottability Your government’s position on...</td>\n",
              "    </tr>\n",
              "    <tr>\n",
              "      <th>2</th>\n",
              "      <td>2021-08-27</td>\n",
              "      <td>NEW: The Ontario government says with more tha...</td>\n",
              "    </tr>\n",
              "    <tr>\n",
              "      <th>3</th>\n",
              "      <td>2021-08-27</td>\n",
              "      <td>@celliottability @fordnation  you need to do v...</td>\n",
              "    </tr>\n",
              "    <tr>\n",
              "      <th>4</th>\n",
              "      <td>2021-08-27</td>\n",
              "      <td>Liberal Leader Justin Trudeau took aim at cons...</td>\n",
              "    </tr>\n",
              "    <tr>\n",
              "      <th>...</th>\n",
              "      <td>...</td>\n",
              "      <td>...</td>\n",
              "    </tr>\n",
              "    <tr>\n",
              "      <th>3016</th>\n",
              "      <td>2021-08-20</td>\n",
              "      <td>The province announced on Tuesday it would all...</td>\n",
              "    </tr>\n",
              "    <tr>\n",
              "      <th>3017</th>\n",
              "      <td>2021-08-20</td>\n",
              "      <td>The province announced on Tuesday it would all...</td>\n",
              "    </tr>\n",
              "    <tr>\n",
              "      <th>3018</th>\n",
              "      <td>2021-08-20</td>\n",
              "      <td>The province announced on Tuesday it would all...</td>\n",
              "    </tr>\n",
              "    <tr>\n",
              "      <th>3019</th>\n",
              "      <td>2021-08-20</td>\n",
              "      <td>The province announced on Tuesday it would all...</td>\n",
              "    </tr>\n",
              "    <tr>\n",
              "      <th>3020</th>\n",
              "      <td>2021-08-20</td>\n",
              "      <td>The province announced on Tuesday it would all...</td>\n",
              "    </tr>\n",
              "  </tbody>\n",
              "</table>\n",
              "<p>3021 rows × 2 columns</p>\n",
              "</div>"
            ],
            "text/plain": [
              "            date                                              tweet\n",
              "0     2021-08-27  Ontario Salutes Work of Province’s COVID-19 Va...\n",
              "1     2021-08-27  @celliottability Your government’s position on...\n",
              "2     2021-08-27  NEW: The Ontario government says with more tha...\n",
              "3     2021-08-27  @celliottability @fordnation  you need to do v...\n",
              "4     2021-08-27  Liberal Leader Justin Trudeau took aim at cons...\n",
              "...          ...                                                ...\n",
              "3016  2021-08-20  The province announced on Tuesday it would all...\n",
              "3017  2021-08-20  The province announced on Tuesday it would all...\n",
              "3018  2021-08-20  The province announced on Tuesday it would all...\n",
              "3019  2021-08-20  The province announced on Tuesday it would all...\n",
              "3020  2021-08-20  The province announced on Tuesday it would all...\n",
              "\n",
              "[3021 rows x 2 columns]"
            ]
          },
          "metadata": {},
          "execution_count": 9
        }
      ]
    },
    {
      "cell_type": "code",
      "metadata": {
        "id": "nIQNja6VcOW9"
      },
      "source": [
        "handles = []\n",
        "for t in data['tweet']:\n",
        "  if '@' in t: \n",
        "    handles.append(t)\n",
        "\n",
        "tokens = [] \n",
        "for t in handles:\n",
        "  tokens.append(t.split())\n",
        "\n",
        "handle_tokens = [] \n",
        "for t in tokens:\n",
        "  for i in t:\n",
        "    if '@' in i:\n",
        "      handle_tokens.append(i)\n",
        "handle_tokens, len(handle_tokens)"
      ],
      "execution_count": null,
      "outputs": []
    },
    {
      "cell_type": "code",
      "metadata": {
        "colab": {
          "base_uri": "https://localhost:8080/"
        },
        "id": "Px2XP6Q00GaL",
        "outputId": "1c5b2251-76e2-4308-87c5-50624d8a9d8a"
      },
      "source": [
        "import collections \n",
        "from collections import Counter\n",
        "\n",
        "word_counts = collections.Counter(handle_tokens)\n",
        "word_counts.most_common(25)"
      ],
      "execution_count": null,
      "outputs": [
        {
          "output_type": "execute_result",
          "data": {
            "text/plain": [
              "[('@fordnation', 309),\n",
              " ('@celliottability', 72),\n",
              " ('@CP24', 50),\n",
              " ('@PnPCBC', 46),\n",
              " ('@JustinTrudeau', 39),\n",
              " ('@TorontoStar', 32),\n",
              " ('@CTVToronto', 31),\n",
              " ('@BogochIsaac', 31),\n",
              " ('@', 25),\n",
              " ('@CBCKatie', 23),\n",
              " ('@StevenDelDuca', 22),\n",
              " ('@erinotoole', 22),\n",
              " ('@ONgov', 19),\n",
              " ('@680NEWS', 17),\n",
              " ('@MaximeBernier', 16),\n",
              " ('@imgrund', 16),\n",
              " ('@VaxHuntersCan', 15),\n",
              " ('@Billius27', 14),\n",
              " ('@JohnTory', 14),\n",
              " ('@OntarioPCParty', 14),\n",
              " ('@drmwarner', 13),\n",
              " ('@torontostar', 13),\n",
              " ('@GregRickford', 12),\n",
              " ('@CBCNews', 12),\n",
              " ('@CTVNews', 11)]"
            ]
          },
          "metadata": {},
          "execution_count": 21
        }
      ]
    },
    {
      "cell_type": "markdown",
      "metadata": {
        "id": "s6QvDLMe2uJH"
      },
      "source": [
        "####Looking at the code above, fordnation, Christine Elliot, Justin Trudeau, and major news outlits have the highest frequency in tweets"
      ]
    },
    {
      "cell_type": "code",
      "metadata": {
        "id": "s9obYaRI2tin"
      },
      "source": [
        "# Configure for general vax search \n",
        "c = twint.Config() \n",
        "c.Search = \"vaccine OR vaccinated OR vax OR shot\"\n",
        "c.All = \"@fordnation OR @celliottability OR @CP24 OR @PnPCBC OR @JustinTrudeau OR @TorontoStar\"\n",
        "c.Lang = \"en\"\n",
        "c.Since = \"2021-01-01\"\n",
        "c.Limit = 200000\n",
        "c.Store_csv = True\n",
        "c.Output = \"/content/drive/MyDrive/Colab Notebooks/vax_tweets_ON.csv\"\n",
        "\n",
        "twint.run.Search(c)"
      ],
      "execution_count": null,
      "outputs": []
    },
    {
      "cell_type": "code",
      "metadata": {
        "id": "oaYQl0oe6g1k"
      },
      "source": [
        "d1 = pd.read_csv(\"/content/drive/MyDrive/Colab Notebooks/vax_tweets_ON.csv\")\n",
        "data1 = d.iloc[:,[3,10]]\n",
        "data1.drop_duplicates(\"tweet\", inplace=True)\n",
        "data1"
      ],
      "execution_count": null,
      "outputs": []
    },
    {
      "cell_type": "code",
      "metadata": {
        "id": "fC9bmnfc8jBk"
      },
      "source": [
        ""
      ],
      "execution_count": null,
      "outputs": []
    }
  ]
}